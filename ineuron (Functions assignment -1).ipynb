{
 "cells": [
  {
   "cell_type": "markdown",
   "id": "c4dd5fde",
   "metadata": {},
   "source": [
    "# 1. What is a lambda function in Python, and how does it differ from a regular function?"
   ]
  },
  {
   "cell_type": "markdown",
   "id": "70a60973",
   "metadata": {},
   "source": [
    "A lambda function in Python is a small anonymous function that can be defined without a name. It is created using the lambda keyword, followed by the function arguments and a colon, and then the expression to be evaluated. \n",
    "\n",
    "The result of the expression is automatically returned. The main difference between a lambda function and a regular function is that lambda functions are used for simple and concise operations, while regular functions are more suitable for complex tasks and reusable code."
   ]
  },
  {
   "cell_type": "markdown",
   "id": "7c02192e",
   "metadata": {},
   "source": [
    "# 2. Can a lambda function in Python have multiple arguments? If yes, how can you define and use them?"
   ]
  },
  {
   "cell_type": "markdown",
   "id": "454437ba",
   "metadata": {},
   "source": [
    "Yes, a lambda function in Python can have multiple arguments. You can define and use them by separating the arguments with commas after the 'lambda' keyword. \n",
    "\n",
    "For example, a lambda function with two arguments can be defined like this: 'lambda x, y: x + y'. To use the lambda function, you can call it and pass the required arguments like any other function."
   ]
  },
  {
   "cell_type": "markdown",
   "id": "6db59860",
   "metadata": {},
   "source": [
    "# 3. How are lambda functions typically used in Python? Provide an example use case."
   ]
  },
  {
   "cell_type": "markdown",
   "id": "92ea438c",
   "metadata": {},
   "source": [
    "Lambda functions are typically used in Python when a small function is needed for a short and one-time operation, especially when passing a function as an argument to another function. \n",
    "\n",
    "They are commonly used with built-in functions like 'map()', 'filter()', and 'reduce()', which expect a function as one of their parameters. Lambda functions provide a convenient way to define these functions on the fly without the need for a separate named function."
   ]
  },
  {
   "cell_type": "markdown",
   "id": "ad43b1cb",
   "metadata": {},
   "source": [
    "# 4. What are the advantages and limitations of lambda functions compared to regular functions in python."
   ]
  },
  {
   "cell_type": "markdown",
   "id": "e92f4d33",
   "metadata": {},
   "source": [
    "The advantages of lambda functions in Python are their conciseness and simplicity. They allow you to write small functions quickly and inline, reducing the need for defining separate named functions.\n",
    "\n",
    "Lambda functions are also useful for functional programming paradigms and provide a more compact syntax. However, lambda functions have limitations. \n",
    "\n",
    "They can only contain a single expression, which means they cannot have multiple statements or complex logic. Additionally, lambda functions lack the self-documentation and reusability of regular functions."
   ]
  },
  {
   "cell_type": "markdown",
   "id": "258761dc",
   "metadata": {},
   "source": [
    "# 5. Are lambda functions in Python able to access variables defined outside of their own scope Explain with an example.?"
   ]
  },
  {
   "cell_type": "markdown",
   "id": "e5a8db22",
   "metadata": {},
   "source": [
    "Yes, lambda functions in Python can access variables defined outside of their own scope. This is known as variable capture. Lambda functions can access variables from the surrounding scope in which they are defined, including global variables.\n",
    "\n",
    "However, if the variable is mutable (e.g., a list or dictionary), modifying it inside the lambda function will have an effect on the variable outside the function. Here's an example:\n"
   ]
  },
  {
   "cell_type": "code",
   "execution_count": 6,
   "id": "9913f0bd",
   "metadata": {},
   "outputs": [
    {
     "name": "stdout",
     "output_type": "stream",
     "text": [
      "10\n"
     ]
    }
   ],
   "source": [
    "def multiplier(n):\n",
    "    return lambda x: x * n\n",
    "\n",
    "double = multiplier(2)\n",
    "print(double(5))  \n"
   ]
  },
  {
   "cell_type": "markdown",
   "id": "06006d45",
   "metadata": {},
   "source": [
    "In the above example, the lambda function double captures the variable n from its outer scope (multiplier function) and uses it in the expression x * n.\n",
    "\n"
   ]
  },
  {
   "cell_type": "markdown",
   "id": "7b1be547",
   "metadata": {},
   "source": [
    "1.Lambda function to calculate the square of a given number:"
   ]
  },
  {
   "cell_type": "code",
   "execution_count": 7,
   "id": "dbcba071",
   "metadata": {},
   "outputs": [
    {
     "name": "stdout",
     "output_type": "stream",
     "text": [
      "25\n"
     ]
    }
   ],
   "source": [
    "square = lambda x: x ** 2\n",
    "result = square(5)\n",
    "print(result)  \n"
   ]
  },
  {
   "cell_type": "markdown",
   "id": "13e65cf7",
   "metadata": {},
   "source": [
    "Lambda function to find the maximum value in a list of integers:"
   ]
  },
  {
   "cell_type": "code",
   "execution_count": 8,
   "id": "c5b9360f",
   "metadata": {},
   "outputs": [
    {
     "name": "stdout",
     "output_type": "stream",
     "text": [
      "9\n"
     ]
    }
   ],
   "source": [
    "numbers = [5, 3, 9, 2, 7]\n",
    "maximum = max(numbers, key=lambda x: x)\n",
    "print(maximum)  \n"
   ]
  },
  {
   "cell_type": "markdown",
   "id": "062f88ec",
   "metadata": {},
   "source": [
    "Lambda function to filter out all the even numbers from a list of integers:"
   ]
  },
  {
   "cell_type": "code",
   "execution_count": 9,
   "id": "b02c3cfd",
   "metadata": {},
   "outputs": [
    {
     "name": "stdout",
     "output_type": "stream",
     "text": [
      "[2, 4, 6, 8, 10]\n"
     ]
    }
   ],
   "source": [
    "numbers = [1, 2, 3, 4, 5, 6, 7, 8, 9, 10]\n",
    "filtered = list(filter(lambda x: x % 2 == 0, numbers))\n",
    "print(filtered)  \n"
   ]
  },
  {
   "cell_type": "markdown",
   "id": "c3e8c3ee",
   "metadata": {},
   "source": [
    "Lambda function to sort a list of strings in ascending order based on the length of each string:"
   ]
  },
  {
   "cell_type": "code",
   "execution_count": 10,
   "id": "c0c2d79d",
   "metadata": {},
   "outputs": [
    {
     "name": "stdout",
     "output_type": "stream",
     "text": [
      "['date', 'apple', 'banana', 'cherry', 'elderberry']\n"
     ]
    }
   ],
   "source": [
    "strings = ['apple', 'banana', 'cherry', 'date', 'elderberry']\n",
    "sorted_strings = sorted(strings, key=lambda x: len(x))\n",
    "print(sorted_strings) \n"
   ]
  },
  {
   "cell_type": "markdown",
   "id": "aa52324b",
   "metadata": {},
   "source": [
    "Lambda function that returns a new list containing the common elements between two lists:"
   ]
  },
  {
   "cell_type": "code",
   "execution_count": 11,
   "id": "5226387d",
   "metadata": {},
   "outputs": [
    {
     "name": "stdout",
     "output_type": "stream",
     "text": [
      "[4, 5]\n"
     ]
    }
   ],
   "source": [
    "list1 = [1, 2, 3, 4, 5]\n",
    "list2 = [4, 5, 6, 7, 8]\n",
    "common_elements = list(filter(lambda x: x in list1, list2))\n",
    "print(common_elements)  "
   ]
  },
  {
   "cell_type": "markdown",
   "id": "5b2075c4",
   "metadata": {},
   "source": [
    "Recursive function to calculate the factorial of a given positive integer:"
   ]
  },
  {
   "cell_type": "code",
   "execution_count": 12,
   "id": "29e5a3a6",
   "metadata": {},
   "outputs": [
    {
     "name": "stdout",
     "output_type": "stream",
     "text": [
      "120\n"
     ]
    }
   ],
   "source": [
    "def factorial(n):\n",
    "    if n == 0:\n",
    "        return 1\n",
    "    else:\n",
    "        return n * factorial(n - 1)\n",
    "\n",
    "result = factorial(5)\n",
    "print(result) \n"
   ]
  },
  {
   "cell_type": "markdown",
   "id": "b6fe96c8",
   "metadata": {},
   "source": [
    "Recursive function to compute the nth Fibonacci number:"
   ]
  },
  {
   "cell_type": "code",
   "execution_count": 13,
   "id": "552fc929",
   "metadata": {},
   "outputs": [
    {
     "name": "stdout",
     "output_type": "stream",
     "text": [
      "8\n"
     ]
    }
   ],
   "source": [
    "def fibonacci(n):\n",
    "    if n <= 1:\n",
    "        return n\n",
    "    else:\n",
    "        return fibonacci(n - 1) + fibonacci(n - 2)\n",
    "\n",
    "result = fibonacci(6)\n",
    "print(result)  \n"
   ]
  },
  {
   "cell_type": "markdown",
   "id": "eade2944",
   "metadata": {},
   "source": [
    "Recursive function to find the sum of all elements in a given list:"
   ]
  },
  {
   "cell_type": "code",
   "execution_count": 14,
   "id": "581cb14b",
   "metadata": {},
   "outputs": [
    {
     "name": "stdout",
     "output_type": "stream",
     "text": [
      "15\n"
     ]
    }
   ],
   "source": [
    "def sum_list(lst):\n",
    "    if not lst:\n",
    "        return 0\n",
    "    else:\n",
    "        return lst[0] + sum_list(lst[1:])\n",
    "\n",
    "result = sum_list([1, 2, 3, 4, 5])\n",
    "print(result)\n"
   ]
  },
  {
   "cell_type": "markdown",
   "id": "ff2db1f6",
   "metadata": {},
   "source": [
    "Recursive function to determine whether a given string is a palindrome:"
   ]
  },
  {
   "cell_type": "code",
   "execution_count": 15,
   "id": "c2916631",
   "metadata": {},
   "outputs": [
    {
     "name": "stdout",
     "output_type": "stream",
     "text": [
      "True\n"
     ]
    }
   ],
   "source": [
    "def is_palindrome(string):\n",
    "    if len(string) <= 1:\n",
    "        return True\n",
    "    else:\n",
    "        return string[0] == string[-1] and is_palindrome(string[1:-1])\n",
    "\n",
    "result = is_palindrome(\"radar\")\n",
    "print(result)  \n"
   ]
  },
  {
   "cell_type": "markdown",
   "id": "cb6d9114",
   "metadata": {},
   "source": [
    "Recursive function to find the greatest common divisor (GCD) of two positive integers:"
   ]
  },
  {
   "cell_type": "code",
   "execution_count": 16,
   "id": "d17a71e2",
   "metadata": {},
   "outputs": [
    {
     "name": "stdout",
     "output_type": "stream",
     "text": [
      "12\n"
     ]
    }
   ],
   "source": [
    "def gcd(a, b):\n",
    "    if b == 0:\n",
    "        return a\n",
    "    else:\n",
    "        return gcd(b, a % b)\n",
    "\n",
    "result = gcd(24, 36)\n",
    "print(result)  "
   ]
  },
  {
   "cell_type": "markdown",
   "id": "64824233",
   "metadata": {},
   "source": [
    "# 6. Write a lambda function to calculate the square of a given number."
   ]
  },
  {
   "cell_type": "code",
   "execution_count": 17,
   "id": "3c7fc9e8",
   "metadata": {},
   "outputs": [],
   "source": [
    "square = lambda x: x ** 2\n"
   ]
  },
  {
   "cell_type": "markdown",
   "id": "d380a6d3",
   "metadata": {},
   "source": [
    "In the above lambda function, x is the input parameter, and the expression x ** 2 calculates the square of x.\n",
    "\n",
    "You can use this lambda function to calculate the square of a number by calling it and passing the desired number as an argument. Here's an example:"
   ]
  },
  {
   "cell_type": "code",
   "execution_count": 18,
   "id": "d3fc60c4",
   "metadata": {},
   "outputs": [
    {
     "name": "stdout",
     "output_type": "stream",
     "text": [
      "25\n"
     ]
    }
   ],
   "source": [
    "result = square(5)\n",
    "print(result) \n"
   ]
  },
  {
   "cell_type": "markdown",
   "id": "fc5cfdea",
   "metadata": {},
   "source": [
    "n the example above, square(5) calls the lambda function with 5 as the input, and it returns the square of 5, which is 25."
   ]
  },
  {
   "cell_type": "markdown",
   "id": "72d42c57",
   "metadata": {},
   "source": [
    "# 7. Create a lambda function to find the maximum value in a list of integers."
   ]
  },
  {
   "cell_type": "code",
   "execution_count": 19,
   "id": "f23b835a",
   "metadata": {},
   "outputs": [],
   "source": [
    "numbers = [5, 3, 9, 2, 7]\n",
    "maximum = max(numbers, key=lambda x: x)\n"
   ]
  },
  {
   "cell_type": "markdown",
   "id": "ef4675d2",
   "metadata": {},
   "source": [
    "In the above lambda function, key=lambda x: x specifies that the maximum value should be determined based on the actual values in the list.\n",
    "\n",
    "You can use this lambda function by calling the max() function and passing the list of integers as the first argument. The lambda function is used as the key parameter to define the comparison criterion. Here's an example:"
   ]
  },
  {
   "cell_type": "code",
   "execution_count": 20,
   "id": "9fe589a7",
   "metadata": {},
   "outputs": [
    {
     "name": "stdout",
     "output_type": "stream",
     "text": [
      "9\n"
     ]
    }
   ],
   "source": [
    "numbers = [5, 3, 9, 2, 7]\n",
    "maximum = max(numbers, key=lambda x: x)\n",
    "print(maximum) "
   ]
  },
  {
   "cell_type": "markdown",
   "id": "8e71bfb5",
   "metadata": {},
   "source": [
    "In the example above, max(numbers, key=lambda x: x) finds the maximum value in the numbers list, and it returns 9, which is the largest value in the list."
   ]
  },
  {
   "cell_type": "markdown",
   "id": "04a38d74",
   "metadata": {},
   "source": [
    "# 8. Implement a lambda function to filter out all the even numbers from a list of integers."
   ]
  },
  {
   "cell_type": "code",
   "execution_count": 21,
   "id": "900cad28",
   "metadata": {},
   "outputs": [],
   "source": [
    "numbers = [1, 2, 3, 4, 5, 6, 7, 8, 9, 10]\n",
    "filtered = list(filter(lambda x: x % 2 == 0, numbers))\n"
   ]
  },
  {
   "cell_type": "markdown",
   "id": "27d1a7a6",
   "metadata": {},
   "source": [
    "In the lambda function, x % 2 == 0 is the condition to check if x is an even number.\n",
    "\n",
    "To use this lambda function, you can call the filter() function and pass the lambda function as the first argument. The lambda function will be used to filter the elements of the list based on the given condition. The list() function is then used to convert the filtered result into a list. Here's an example:"
   ]
  },
  {
   "cell_type": "code",
   "execution_count": 22,
   "id": "a48926b1",
   "metadata": {},
   "outputs": [
    {
     "name": "stdout",
     "output_type": "stream",
     "text": [
      "[2, 4, 6, 8, 10]\n"
     ]
    }
   ],
   "source": [
    "numbers = [1, 2, 3, 4, 5, 6, 7, 8, 9, 10]\n",
    "filtered = list(filter(lambda x: x % 2 == 0, numbers))\n",
    "print(filtered)  \n"
   ]
  },
  {
   "cell_type": "markdown",
   "id": "a04494b9",
   "metadata": {},
   "source": [
    "In the example above, filter(lambda x: x % 2 == 0, numbers) filters out all the even numbers from the numbers list and returns a filtered result. The resulting list, [2, 4, 6, 8, 10], contains only the even numbers from the original list."
   ]
  },
  {
   "cell_type": "markdown",
   "id": "50e58c0d",
   "metadata": {},
   "source": [
    "# 9. Write a lambda function to sort a list of strings in ascending order based on the length of each string.\n"
   ]
  },
  {
   "cell_type": "code",
   "execution_count": 23,
   "id": "57318cbd",
   "metadata": {},
   "outputs": [],
   "source": [
    "strings = ['apple', 'banana', 'cherry', 'date', 'elderberry']\n",
    "sorted_strings = sorted(strings, key=lambda x: len(x))\n"
   ]
  },
  {
   "cell_type": "markdown",
   "id": "0a2f1d8f",
   "metadata": {},
   "source": [
    "In the lambda function, len(x) is used as the key to determine the length of each string x.\n",
    "\n",
    "To use this lambda function, you can call the sorted() function and pass the list of strings as the first argument. The lambda function is used as the key parameter to define the sorting criterion. The resulting list will be sorted in ascending order based on the length of each string. Here's an example:"
   ]
  },
  {
   "cell_type": "code",
   "execution_count": 24,
   "id": "db49efdd",
   "metadata": {},
   "outputs": [
    {
     "name": "stdout",
     "output_type": "stream",
     "text": [
      "['date', 'apple', 'banana', 'cherry', 'elderberry']\n"
     ]
    }
   ],
   "source": [
    "strings = ['apple', 'banana', 'cherry', 'date', 'elderberry']\n",
    "sorted_strings = sorted(strings, key=lambda x: len(x))\n",
    "print(sorted_strings)  "
   ]
  },
  {
   "cell_type": "markdown",
   "id": "b126d763",
   "metadata": {},
   "source": [
    "In the example above, sorted(strings, key=lambda x: len(x)) sorts the strings list in ascending order based on the length of each string.\n",
    "\n",
    "The resulting list, ['date', 'apple', 'cherry', 'banana', 'elderberry'], contains the strings sorted by their length from shortest to longest."
   ]
  },
  {
   "cell_type": "markdown",
   "id": "442425ba",
   "metadata": {},
   "source": [
    "# 10. Create a lambda function that takes two lists as input and returns a new list containing the"
   ]
  },
  {
   "cell_type": "code",
   "execution_count": 25,
   "id": "bcdd2757",
   "metadata": {},
   "outputs": [],
   "source": [
    "list1 = [1, 2, 3, 4, 5]\n",
    "list2 = [4, 5, 6, 7, 8]\n",
    "common_elements = list(filter(lambda x: x in list1, list2))\n"
   ]
  },
  {
   "cell_type": "markdown",
   "id": "a2522266",
   "metadata": {},
   "source": [
    "In the lambda function, x in list1 checks if an element x exists in list1.\n",
    "\n",
    "To use this lambda function, you can call the filter() function and pass the lambda function as the first argument. The lambda function is used to filter the elements of list2 based on whether they are present in list1. The list() function is then used to convert the filtered result into a list. Here's an example:"
   ]
  },
  {
   "cell_type": "code",
   "execution_count": 26,
   "id": "c9804438",
   "metadata": {},
   "outputs": [
    {
     "name": "stdout",
     "output_type": "stream",
     "text": [
      "[4, 5]\n"
     ]
    }
   ],
   "source": [
    "list1 = [1, 2, 3, 4, 5]\n",
    "list2 = [4, 5, 6, 7, 8]\n",
    "common_elements = list(filter(lambda x: x in list1, list2))\n",
    "print(common_elements)  # Output: [4, 5]\n"
   ]
  },
  {
   "cell_type": "markdown",
   "id": "c8ea84a3",
   "metadata": {},
   "source": [
    "In the example above, filter(lambda x: x in list1, list2) filters out the elements from list2 that are present in list1 and returns a filtered result. The resulting list, [4, 5], contains the common elements between list1 and list2."
   ]
  },
  {
   "cell_type": "markdown",
   "id": "a304a590",
   "metadata": {},
   "source": [
    "# 11. Write a recursive function to calculate the factorial of a given positive integer."
   ]
  },
  {
   "cell_type": "code",
   "execution_count": 27,
   "id": "e06b85e6",
   "metadata": {},
   "outputs": [],
   "source": [
    "def factorial(n):\n",
    "    if n == 0:\n",
    "        return 1\n",
    "    else:\n",
    "        return n * factorial(n - 1)\n"
   ]
  },
  {
   "cell_type": "markdown",
   "id": "8c5fa357",
   "metadata": {},
   "source": [
    "In the recursive function, the base case is when n is equal to 0, in which case the factorial is defined as 1. For any other positive integer n, the function recursively calls itself with n-1 as the argument and multiplies it by n.\n",
    "\n",
    "To use this recursive function, you can call it and pass the desired positive integer as an argument. Here's an example:"
   ]
  },
  {
   "cell_type": "code",
   "execution_count": 29,
   "id": "19c26c90",
   "metadata": {},
   "outputs": [
    {
     "name": "stdout",
     "output_type": "stream",
     "text": [
      "120\n"
     ]
    }
   ],
   "source": [
    "result = factorial(5)\n",
    "print(result)  \n"
   ]
  },
  {
   "cell_type": "markdown",
   "id": "41efef07",
   "metadata": {},
   "source": [
    "In the example above, factorial(5) calls the recursive function with 5 as the input, and it returns the factorial of 5, which is 120."
   ]
  },
  {
   "cell_type": "markdown",
   "id": "0afd14c8",
   "metadata": {},
   "source": [
    "# 12. Implement a recursive function to compute the nth Fibonacci number."
   ]
  },
  {
   "cell_type": "code",
   "execution_count": 30,
   "id": "a3f17c81",
   "metadata": {},
   "outputs": [],
   "source": [
    "def fibonacci(n):\n",
    "    if n <= 1:\n",
    "        return n\n",
    "    else:\n",
    "        return fibonacci(n - 1) + fibonacci(n - 2)\n"
   ]
  },
  {
   "cell_type": "markdown",
   "id": "b9eb6b7c",
   "metadata": {},
   "source": [
    "In the recursive function, the base cases are when n is less than or equal to 1, in which case the Fibonacci number is equal to n itself. For any other value of n, the function recursively calls itself with n-1 and n-2 as arguments and returns the sum of the two previous Fibonacci numbers.\n",
    "\n",
    "To use this recursive function, you can call it and pass the desired value of n as an argument. Here's an example:"
   ]
  },
  {
   "cell_type": "code",
   "execution_count": 32,
   "id": "9eb92d95",
   "metadata": {},
   "outputs": [
    {
     "name": "stdout",
     "output_type": "stream",
     "text": [
      "8\n"
     ]
    }
   ],
   "source": [
    "result = fibonacci(6)\n",
    "print(result)  \n"
   ]
  },
  {
   "cell_type": "markdown",
   "id": "dfc88ce9",
   "metadata": {},
   "source": [
    "In the example above, fibonacci(6) calls the recursive function with 6 as the input, and it returns the 6th Fibonacci number, which is 8."
   ]
  },
  {
   "cell_type": "markdown",
   "id": "2bc570b2",
   "metadata": {},
   "source": [
    "# 13. Create a recursive function to find the sum of all the elements in a given list."
   ]
  },
  {
   "cell_type": "code",
   "execution_count": 33,
   "id": "8cccc203",
   "metadata": {},
   "outputs": [],
   "source": [
    "def sum_list(lst):\n",
    "    if not lst:\n",
    "        return 0\n",
    "    else:\n",
    "        return lst[0] + sum_list(lst[1:])\n"
   ]
  },
  {
   "cell_type": "markdown",
   "id": "7d579d6f",
   "metadata": {},
   "source": [
    "In the recursive function, the base case is when the input list lst is empty. In that case, the sum is defined as 0. For a non-empty list, the function recursively calls itself with the sublist starting from the second element (lst[1:]) and adds it to the first element (lst[0]).\n",
    "\n",
    "To use this recursive function, you can call it and pass the desired list as an argument. Here's an example:"
   ]
  },
  {
   "cell_type": "code",
   "execution_count": 34,
   "id": "0b8ddecb",
   "metadata": {},
   "outputs": [
    {
     "name": "stdout",
     "output_type": "stream",
     "text": [
      "15\n"
     ]
    }
   ],
   "source": [
    "result = sum_list([1, 2, 3, 4, 5])\n",
    "print(result)\n"
   ]
  },
  {
   "cell_type": "markdown",
   "id": "a78709b3",
   "metadata": {},
   "source": [
    "In the example above, sum_list([1, 2, 3, 4, 5]) calls the recursive function with the list [1, 2, 3, 4, 5] as the input, and it returns the sum of all the elements in the list, which is 15."
   ]
  },
  {
   "cell_type": "markdown",
   "id": "0737d5dc",
   "metadata": {},
   "source": [
    "# 14. Write a recursive function to determine whether a given string is a palindrome."
   ]
  },
  {
   "cell_type": "code",
   "execution_count": 35,
   "id": "d4a43358",
   "metadata": {},
   "outputs": [],
   "source": [
    "def is_palindrome(string):\n",
    "    if len(string) <= 1:\n",
    "        return True\n",
    "    else:\n",
    "        return string[0] == string[-1] and is_palindrome(string[1:-1])\n"
   ]
  },
  {
   "cell_type": "markdown",
   "id": "a5fa5d7a",
   "metadata": {},
   "source": [
    "In the recursive function, the base case is when the length of the string is less than or equal to 1. In that case, the string is considered a palindrome and the function returns True. \n",
    "\n",
    "For a string with more than one character, the function checks if the first character (string[0]) is equal to the last character (string[-1]). If they are equal, the function recursively calls itself with the string excluding the first and last characters (string[1:-1]).\n",
    "\n",
    "To use this recursive function, you can call it and pass the desired string as an argument. Here's an example:"
   ]
  },
  {
   "cell_type": "code",
   "execution_count": 36,
   "id": "791afc0a",
   "metadata": {},
   "outputs": [
    {
     "name": "stdout",
     "output_type": "stream",
     "text": [
      "True\n"
     ]
    }
   ],
   "source": [
    "result = is_palindrome(\"radar\")\n",
    "print(result) \n"
   ]
  },
  {
   "cell_type": "markdown",
   "id": "946c9784",
   "metadata": {},
   "source": [
    "in the example above, is_palindrome(\"radar\") calls the recursive function with the string \"radar\" as the input, and it returns True because \"radar\" is a palindrome."
   ]
  },
  {
   "cell_type": "markdown",
   "id": "66c6faf1",
   "metadata": {},
   "source": [
    "# 15. Implement a recursive function to find the greatest common divisor (GCD) of two positive integers."
   ]
  },
  {
   "cell_type": "code",
   "execution_count": 37,
   "id": "8d90f40a",
   "metadata": {},
   "outputs": [],
   "source": [
    "def gcd(a, b):\n",
    "    if b == 0:\n",
    "        return a\n",
    "    else:\n",
    "        return gcd(b, a % b)\n"
   ]
  },
  {
   "cell_type": "markdown",
   "id": "cf5753d3",
   "metadata": {},
   "source": [
    "In the recursive function, the base case is when the second integer b is equal to 0. In that case, the GCD is equal to the first integer a. For any other values of a and b, the function recursively calls itself with b and the remainder of the division of a by b (a % b).\n",
    "\n",
    "To use this recursive function, you can call it and pass the two positive integers as arguments. Here's an example:"
   ]
  },
  {
   "cell_type": "code",
   "execution_count": 39,
   "id": "6ff4884b",
   "metadata": {},
   "outputs": [
    {
     "name": "stdout",
     "output_type": "stream",
     "text": [
      "12\n"
     ]
    }
   ],
   "source": [
    "result = gcd(24, 36)\n",
    "print(result)  \n"
   ]
  },
  {
   "cell_type": "markdown",
   "id": "de54a6cb",
   "metadata": {},
   "source": [
    "In the example above, gcd(24, 36) calls the recursive function with 24 and 36 as the inputs, and it returns the greatest common divisor of the two numbers, which is 12."
   ]
  },
  {
   "cell_type": "code",
   "execution_count": null,
   "id": "29abb552",
   "metadata": {},
   "outputs": [],
   "source": []
  }
 ],
 "metadata": {
  "kernelspec": {
   "display_name": "Python 3 (ipykernel)",
   "language": "python",
   "name": "python3"
  },
  "language_info": {
   "codemirror_mode": {
    "name": "ipython",
    "version": 3
   },
   "file_extension": ".py",
   "mimetype": "text/x-python",
   "name": "python",
   "nbconvert_exporter": "python",
   "pygments_lexer": "ipython3",
   "version": "3.10.9"
  }
 },
 "nbformat": 4,
 "nbformat_minor": 5
}
